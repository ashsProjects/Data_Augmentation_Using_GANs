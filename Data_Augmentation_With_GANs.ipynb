{
 "cells": [
  {
   "cell_type": "code",
   "execution_count": 4,
   "metadata": {},
   "outputs": [],
   "source": [
    "import pandas as pd\n",
    "import matplotlib.pyplot as plt\n",
    "import numpy as np"
   ]
  },
  {
   "cell_type": "code",
   "execution_count": 18,
   "metadata": {},
   "outputs": [],
   "source": [
    "#RUN ONLY ONCE\n",
    "# %pip install kaggle\n",
    "# !mkdir -p ~/.kaggle\n",
    "#before running the code below, make sure to download Kaggle API Token first and change path to where the file was downloaded\n",
    "# !mv /path/to/downloaded/kaggle.json ~/.kaggle/\n",
    "\n",
    "# import kaggle\n",
    "# !kaggle datasets download -d nelgiriyewithana/credit-card-fraud-detection-dataset-2023\n",
    "# !kaggle datasets download -d praveengovi/credit-risk-classification-dataset\n",
    "\n",
    "# import zipfile\n",
    "# with zipfile.ZipFile('credit-card-fraud-detection-dataset-2023.zip', 'r') as zip_ref:\n",
    "#     zip_ref.extractall('credit-card-fraud-detection-dataset')\n",
    "# with zipfile.ZipFile('credit-risk-classification-dataset.zip', 'r') as zip_ref:\n",
    "#     zip_ref.extractall('credit-risk-classification-dataset')\n",
    "# !del credit-card-fraud-detection-dataset-2023.zip\n",
    "# !del credit-risk-classification-dataset.zip"
   ]
  },
  {
   "cell_type": "code",
   "execution_count": 2,
   "metadata": {},
   "outputs": [
    {
     "data": {
      "text/plain": [
       "5"
      ]
     },
     "execution_count": 2,
     "metadata": {},
     "output_type": "execute_result"
    }
   ],
   "source": [
    "x=5\n",
    "x"
   ]
  }
 ],
 "metadata": {
  "kernelspec": {
   "display_name": "Python 3",
   "language": "python",
   "name": "python3"
  },
  "language_info": {
   "codemirror_mode": {
    "name": "ipython",
    "version": 3
   },
   "file_extension": ".py",
   "mimetype": "text/x-python",
   "name": "python",
   "nbconvert_exporter": "python",
   "pygments_lexer": "ipython3",
   "version": "3.11.4"
  }
 },
 "nbformat": 4,
 "nbformat_minor": 2
}
