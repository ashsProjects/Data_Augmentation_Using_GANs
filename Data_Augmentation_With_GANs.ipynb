{
 "cells": [
  {
   "cell_type": "code",
   "execution_count": 18,
   "metadata": {},
   "outputs": [],
   "source": [
    "import pandas as pd\n",
    "import matplotlib.pyplot as plt\n",
    "import numpy as np"
   ]
  },
  {
   "cell_type": "code",
   "execution_count": 24,
   "metadata": {},
   "outputs": [
    {
     "name": "stdout",
     "output_type": "stream",
     "text": [
      "Downloading loan-prediction-problem-dataset.zip to c:\\Users\\tyler\\Dropbox\\School\\CS345\\Data_Augmentation_Using_GANs\n",
      "\n"
     ]
    },
    {
     "name": "stderr",
     "output_type": "stream",
     "text": [
      "\n",
      "  0%|          | 0.00/12.6k [00:00<?, ?B/s]\n",
      "100%|██████████| 12.6k/12.6k [00:00<00:00, 1.27MB/s]\n"
     ]
    }
   ],
   "source": [
    "#run once to download data\n",
    "# %pip install kaggle\n",
    "# !mkdir -p ~/.kaggle\n",
    "#before running the code below, make sure to download Kaggle API Token first and change path to where the file was downloaded\n",
    "# !mv /path/to/downloaded/kaggle.json ~/.kaggle/\n",
    "\n",
    "# import kaggle\n",
    "# !kaggle datasets download -d nelgiriyewithana/credit-card-fraud-detection-dataset-2023\n",
    "# !kaggle datasets download -d praveengovi/credit-risk-classification-dataset\n",
    "\n",
    "# import zipfile\n",
    "# with zipfile.ZipFile('credit-card-fraud-detection-dataset-2023.zip', 'r') as zip_ref:\n",
    "#     zip_ref.extractall('credit-card-fraud-detection-dataset')\n",
    "# with zipfile.ZipFile('credit-risk-classification-dataset.zip', 'r') as zip_ref:\n",
    "#     zip_ref.extractall('credit-risk-classification-dataset')\n",
    "# !del credit-card-fraud-detection-dataset-2023.zip\n",
    "# !del credit-risk-classification-dataset.zip\n",
    "\n",
    "\n"
   ]
  },
  {
   "cell_type": "code",
   "execution_count": 26,
   "metadata": {},
   "outputs": [],
   "source": [
    "# !kaggle datasets download -d altruistdelhite04/loan-prediction-problem-dataset\n",
    "# import zipfile\n",
    "# with zipfile.ZipFile('loan-prediction-problem-dataset.zip', 'r') as zip_ref:\n",
    "#     zip_ref.extractall('loan-prediction-problem-dataset')\n",
    "\n",
    "# !del loan-prediction-problem-dataset.zip"
   ]
  },
  {
   "cell_type": "code",
   "execution_count": 124,
   "metadata": {},
   "outputs": [],
   "source": [
    "# import kaggle\n",
    "# !kaggle datasets download -d joebeachcapital/tuandromd\n",
    "\n",
    "# import zipfile\n",
    "# with zipfile.ZipFile('tuandromd.zip', 'r') as zip_ref:\n",
    "#     zip_ref.extractall('malware-dataset')\n",
    "# !del tuandromd.zip"
   ]
  },
  {
   "cell_type": "code",
   "execution_count": 166,
   "metadata": {},
   "outputs": [],
   "source": [
    "# import kaggle \n",
    "# !kaggle datasets download -d uciml/red-wine-quality-cortez-et-al-2009\n",
    "\n",
    "# import zipfile\n",
    "# with zipfile.ZipFile('red-wine-quality-cortez-et-al-2009.zip', 'r') as zip_ref:\n",
    "#     zip_ref.extractall('red-wine-quality')\n",
    "# !del red-wine-quality-cortez-et-al-2009.zip"
   ]
  },
  {
   "cell_type": "code",
   "execution_count": 172,
   "metadata": {},
   "outputs": [],
   "source": [
    "#data loader methods\n",
    "from sklearn.impute import SimpleImputer\n",
    "from sklearn.preprocessing import StandardScaler\n",
    "def load_credit_risk():\n",
    "    payment = pd.read_csv('credit-risk-classification-dataset/payment_data.csv')\n",
    "    customer = pd.read_csv('credit-risk-classification-dataset/customer_data.csv', usecols=range(0,2))\n",
    "    merged_data = payment.merge(customer, left_on='id', right_on='id').values\n",
    "    \n",
    "    cols_to_drop = [0,8,11]#dropping the id and dates; not helpful\n",
    "    data = np.delete(merged_data, cols_to_drop, axis=1)\n",
    "    \n",
    "    #selecting only 1000 of data with labels 0 and 1000 with labels 1\n",
    "    #splitting data by label\n",
    "    indices_0 = data[data[:,-1] == 0]\n",
    "    indices_1 = data[data[:,-1] == 1]\n",
    "    \n",
    "    #randomly selecting indices for labels\n",
    "    random_indices_0 = np.random.choice(indices_0.shape[0], size=500, replace=False)\n",
    "    random_indices_1 = np.random.choice(indices_1.shape[0], size=500, replace=False)\n",
    "\n",
    "    #creating 2 subsets with 0 and 1\n",
    "    subset_0 = indices_0[random_indices_0]\n",
    "    subset_1 = indices_1[random_indices_1]\n",
    "\n",
    "    #combining both to create one and shuffling\n",
    "    data = np.vstack((subset_0, subset_1))\n",
    "    np.random.shuffle(data)\n",
    "    \n",
    "    return (data[:,:-1], data[:,-1].astype(int))\n",
    "    \n",
    "def load_credit_fraud():\n",
    "    #deleting the 1st col as it is just the id; X is 1-30 and y is col 31\n",
    "    X = pd.read_csv('credit-card-fraud-detection-dataset/creditcard_2023.csv', usecols=range(1,31)).values\n",
    "    \n",
    "    #selecting only 5000 of data with labels 0 and 5000 with labels 1\n",
    "    #splitting data by label\n",
    "    indices_0 = X[X[:,-1] == 0]\n",
    "    indices_1 = X[X[:,-1] == 1]\n",
    "    \n",
    "    #randomly selecting indices for labels\n",
    "    random_indices_0 = np.random.choice(indices_0.shape[0], size=2500, replace=False)\n",
    "    random_indices_1 = np.random.choice(indices_1.shape[0], size=2500, replace=False)\n",
    "\n",
    "    #creating 2 subsets with 0 and 1\n",
    "    subset_0 = indices_0[random_indices_0]\n",
    "    subset_1 = indices_1[random_indices_1]\n",
    "\n",
    "    #combining both to create one and shuffling\n",
    "    data = np.vstack((subset_0, subset_1))\n",
    "    np.random.shuffle(data)\n",
    "\n",
    "    return (data[:,:-1], data[:,-1].astype(int))\n",
    "\n",
    "\n",
    "def load_loan_prediction():\n",
    "    data = pd.read_csv('loan-prediction-problem-dataset/train_u6lujuX_CVtuZ9i.csv', usecols=range(1,13))\n",
    "    data = np.array(data)\n",
    "\n",
    "    y = data[:,-1]\n",
    "    X = data[:,:-1]\n",
    "\n",
    "    y[y=='Y'] = 1\n",
    "    y[y=='N'] = 0\n",
    "\n",
    "    X[X=='Male'] = 1\n",
    "    X[X=='Female'] = 0\n",
    "\n",
    "    X[X=='Yes'] = 1\n",
    "    X[X=='No'] = 0\n",
    "\n",
    "    X[X=='0'] = 0\n",
    "    X[X=='1'] = 1\n",
    "    X[X=='2'] = 2\n",
    "    X[X=='3+'] = 3\n",
    "\n",
    "    X[X=='Graduate'] = 1\n",
    "    X[X=='Not Graduate'] = 0\n",
    "\n",
    "    X[X=='Rural'] = 0\n",
    "    X[X=='Semiurban'] = 1\n",
    "    X[X=='Urban'] = 2\n",
    "\n",
    "    X = X.astype(float)\n",
    "    y = y[~np.isnan(X).any(axis=1)]\n",
    "    X = X[~np.isnan(X).any(axis=1)]\n",
    "    X = X.astype(int)\n",
    "    y = y.astype(int)\n",
    "\n",
    "    return X, y\n",
    "\n",
    "\n",
    "def load_malware():\n",
    "    data = np.array(pd.read_csv('malware-dataset/TUANDROMD.csv'))\n",
    "    \n",
    "    indices_0 = data[data[:,-1] == 'malware']\n",
    "    indices_1 = data[data[:,-1] == 'goodware']\n",
    "\n",
    "    random_indices_0 = np.random.choice(indices_0.shape[0], size=800, replace=False)\n",
    "    random_indices_1 = np.random.choice(indices_1.shape[0], size=800, replace=False)\n",
    "\n",
    "    subset_0 = indices_0[random_indices_0]\n",
    "    subset_1 = indices_1[random_indices_1]\n",
    "\n",
    "    data = np.vstack((subset_0, subset_1))\n",
    "    \n",
    "    data[data[:,-1] == 'goodware'] = 0\n",
    "    data[data[:,-1] == 'malware'] = 1\n",
    "\n",
    "    X = data[:,:-1]\n",
    "    y = data[:,-1]\n",
    "    \n",
    "    return X.astype(np.int32), y.astype(np.int32)\n",
    "\n",
    "\n",
    "def load_red_wine():\n",
    "    data = np.array(pd.read_csv('red-wine-quality/winequality-red.csv'))\n",
    "\n",
    "    return (data[:,:-1], data[:,-1])"
   ]
  },
  {
   "cell_type": "code",
   "execution_count": 173,
   "metadata": {},
   "outputs": [],
   "source": [
    "X_wine, y_wine = load_red_wine()\n",
    "\n",
    "from sklearn.preprocessing import StandardScaler\n",
    "X_wine = StandardScaler().fit_transform(X_wine)"
   ]
  },
  {
   "cell_type": "code",
   "execution_count": 160,
   "metadata": {},
   "outputs": [],
   "source": [
    "X_mal, y_mal = load_malware()\n",
    "\n",
    "from sklearn.preprocessing import StandardScaler\n",
    "X_mal = StandardScaler().fit_transform(X_mal)"
   ]
  },
  {
   "cell_type": "code",
   "execution_count": 105,
   "metadata": {},
   "outputs": [],
   "source": [
    "X_loan, y_loan = load_loan_prediction()\n",
    "\n",
    "from sklearn.preprocessing import StandardScaler\n",
    "X_loan = StandardScaler().fit_transform(X_loan)\n"
   ]
  },
  {
   "cell_type": "code",
   "execution_count": 12,
   "metadata": {},
   "outputs": [],
   "source": [
    "#Loading data\n",
    "X_risk, y_risk = load_credit_risk()\n",
    "X_fraud, y_fraud = load_credit_fraud()\n",
    "#Filling nan values with mean using impute\n",
    "X_risk = SimpleImputer(strategy='mean').fit_transform(X_risk)\n",
    "#Standardizing data\n",
    "X_risk = StandardScaler().fit_transform(X_risk)\n",
    "X_fraud = StandardScaler().fit_transform(X_fraud)"
   ]
  },
  {
   "cell_type": "code",
   "execution_count": 13,
   "metadata": {},
   "outputs": [
    {
     "name": "stdout",
     "output_type": "stream",
     "text": [
      "Validity for Credit Risk Dataset: {True}\n",
      "Validity for Credit Fraud Dataset: {True}\n"
     ]
    }
   ],
   "source": [
    "#Checking if data is valid\n",
    "def data_is_valid(X,y, examples, features):\n",
    "    return {\n",
    "        X.shape == (examples, features)\n",
    "        and y.shape == (examples,)\n",
    "        and not np.any(np.isnan(X))\n",
    "        and np.all((y==1) | (y==0))\n",
    "    }\n",
    "print(f'Validity for Credit Risk Dataset: {data_is_valid(X_risk, y_risk, 1000, 9)}')\n",
    "print(f'Validity for Credit Fraud Dataset: {data_is_valid(X_fraud, y_fraud, 5000, 29)}')"
   ]
  },
  {
   "cell_type": "code",
   "execution_count": 106,
   "metadata": {},
   "outputs": [],
   "source": [
    "#imports\n",
    "from sklearn.model_selection import cross_val_score\n",
    "from sklearn.model_selection import StratifiedKFold\n",
    "from sklearn.model_selection import GridSearchCV\n",
    "from sklearn import svm\n",
    "from sklearn.neighbors import KNeighborsClassifier\n",
    "from sklearn.ensemble import RandomForestClassifier"
   ]
  },
  {
   "cell_type": "code",
   "execution_count": 107,
   "metadata": {},
   "outputs": [],
   "source": [
    "#param grids for classifiers\n",
    "svc_param_grid = {'C': [0.1, 1, 10, 100], 'kernel': ['rbf']}\n",
    "kNN_param_grid = {'n_neighbors': [3,5,7,9]}\n",
    "forest_param_grid = {'n_estimators': [50, 100, 150]}\n",
    "\n",
    "#setting cv\n",
    "cv = StratifiedKFold(n_splits=5, random_state=0, shuffle=True)"
   ]
  },
  {
   "cell_type": "code",
   "execution_count": 16,
   "metadata": {},
   "outputs": [],
   "source": [
    "#Cell for calculating base accuracies of the credit risk datatset\n",
    "\n",
    "#svc classifier\n",
    "classifier_1 = GridSearchCV(svm.SVC(), svc_param_grid)\n",
    "classifier_1.fit(X_risk, y_risk)\n",
    "risk_svc_accuracy = np.mean(cross_val_score(classifier_1, X_risk, y_risk, cv=cv, scoring='accuracy'))\n",
    "\n",
    "#kNN classifier\n",
    "classifier_2 = GridSearchCV(KNeighborsClassifier(), kNN_param_grid)\n",
    "classifier_2.fit(X_risk, y_risk)\n",
    "risk_kNN_accuracy = np.mean(cross_val_score(classifier_2, X_risk, y_risk, cv=cv, scoring='accuracy'))\n",
    "\n",
    "#random forest classifier\n",
    "classifier_3 = GridSearchCV(RandomForestClassifier(), forest_param_grid)\n",
    "classifier_3.fit(X_risk, y_risk)\n",
    "risk_forest_accuracy = np.mean(cross_val_score(classifier_3, X_risk, y_risk, cv=cv, scoring='accuracy'))"
   ]
  },
  {
   "cell_type": "code",
   "execution_count": 17,
   "metadata": {},
   "outputs": [],
   "source": [
    "#Cell for calculating base accuracies of the credit fraud datatset\n",
    "\n",
    "#svc classifier\n",
    "classifier_1 = GridSearchCV(svm.SVC(), svc_param_grid)\n",
    "classifier_1.fit(X_fraud, y_fraud)\n",
    "fraud_svc_accuracy = np.mean(cross_val_score(classifier_1, X_fraud, y_fraud, cv=cv, scoring='accuracy'))\n",
    "\n",
    "#kNN classifier\n",
    "classifier_2 = GridSearchCV(KNeighborsClassifier(), kNN_param_grid)\n",
    "classifier_2.fit(X_fraud, y_fraud)\n",
    "fraud_kNN_accuracy = np.mean(cross_val_score(classifier_2, X_fraud, y_fraud, cv=cv, scoring='accuracy'))\n",
    "\n",
    "#random forest classifier\n",
    "classifier_3 = GridSearchCV(RandomForestClassifier(), forest_param_grid)\n",
    "classifier_3.fit(X_fraud, y_fraud)\n",
    "fraud_forest_accuracy = np.mean(cross_val_score(classifier_3, X_fraud, y_fraud, cv=cv, scoring='accuracy'))"
   ]
  },
  {
   "cell_type": "code",
   "execution_count": 162,
   "metadata": {},
   "outputs": [],
   "source": [
    "#Cell for calculating base accuracies of the loan prediction datatset\n",
    "\n",
    "#svc classifier\n",
    "classifier_1 = GridSearchCV(svm.SVC(), svc_param_grid)\n",
    "classifier_1.fit(X_loan, y_loan)\n",
    "loan_svc_accuracy = np.mean(cross_val_score(classifier_1, X_loan, y_loan, cv=cv, scoring='accuracy'))\n",
    "\n",
    "#kNN classifier\n",
    "classifier_2 = GridSearchCV(KNeighborsClassifier(), kNN_param_grid)\n",
    "classifier_2.fit(X_loan, y_loan)\n",
    "loan_kNN_accuracy = np.mean(cross_val_score(classifier_2, X_loan, y_loan, cv=cv, scoring='accuracy'))\n",
    "\n",
    "#random forest classifier\n",
    "classifier_3 = GridSearchCV(RandomForestClassifier(), forest_param_grid)\n",
    "classifier_3.fit(X_loan, y_loan)\n",
    "loan_forest_accuracy = np.mean(cross_val_score(classifier_3, X_loan, y_loan, cv=cv, scoring='accuracy'))"
   ]
  },
  {
   "cell_type": "code",
   "execution_count": 163,
   "metadata": {},
   "outputs": [],
   "source": [
    "#Cell for calculating base accuracies of the malware datatset\n",
    "\n",
    "#svc classifier\n",
    "classifier_1 = GridSearchCV(svm.SVC(), svc_param_grid)\n",
    "classifier_1.fit(X_mal, y_mal)\n",
    "mal_svc_accuracy = np.mean(cross_val_score(classifier_1, X_mal, y_mal, cv=cv, scoring='accuracy'))\n",
    "\n",
    "#kNN classifier\n",
    "classifier_2 = GridSearchCV(KNeighborsClassifier(), kNN_param_grid)\n",
    "classifier_2.fit(X_mal, y_mal)\n",
    "mal_kNN_accuracy = np.mean(cross_val_score(classifier_2, X_mal, y_mal, cv=cv, scoring='accuracy'))\n",
    "\n",
    "#random forest classifier\n",
    "classifier_3 = GridSearchCV(RandomForestClassifier(), forest_param_grid)\n",
    "classifier_3.fit(X_mal, y_mal)\n",
    "mal_forest_accuracy = np.mean(cross_val_score(classifier_3, X_mal, y_mal, cv=cv, scoring='accuracy'))"
   ]
  },
  {
   "cell_type": "code",
   "execution_count": 174,
   "metadata": {},
   "outputs": [],
   "source": [
    "#Cell for calculating base accuracies of the wine datatset\n",
    "\n",
    "#svc classifier\n",
    "classifier_1 = GridSearchCV(svm.SVC(), svc_param_grid)\n",
    "classifier_1.fit(X_wine, y_wine)\n",
    "wine_svc_accuracy = np.mean(cross_val_score(classifier_1, X_wine, y_wine, cv=cv, scoring='accuracy'))\n",
    "\n",
    "#kNN classifier\n",
    "classifier_2 = GridSearchCV(KNeighborsClassifier(), kNN_param_grid)\n",
    "classifier_2.fit(X_wine, y_wine)\n",
    "wine_kNN_accuracy = np.mean(cross_val_score(classifier_2, X_wine, y_wine, cv=cv, scoring='accuracy'))\n",
    "\n",
    "#random forest classifier\n",
    "classifier_3 = GridSearchCV(RandomForestClassifier(), forest_param_grid)\n",
    "classifier_3.fit(X_wine, y_wine)\n",
    "wine_forest_accuracy = np.mean(cross_val_score(classifier_3, X_wine, y_wine, cv=cv, scoring='accuracy'))"
   ]
  },
  {
   "cell_type": "code",
   "execution_count": 10,
   "metadata": {},
   "outputs": [
    {
     "name": "stdout",
     "output_type": "stream",
     "text": [
      "Base accuracies using three classifiers for both datasets:\n"
     ]
    },
    {
     "data": {
      "text/html": [
       "<div>\n",
       "<style scoped>\n",
       "    .dataframe tbody tr th:only-of-type {\n",
       "        vertical-align: middle;\n",
       "    }\n",
       "\n",
       "    .dataframe tbody tr th {\n",
       "        vertical-align: top;\n",
       "    }\n",
       "\n",
       "    .dataframe thead th {\n",
       "        text-align: right;\n",
       "    }\n",
       "</style>\n",
       "<table border=\"1\" class=\"dataframe\">\n",
       "  <thead>\n",
       "    <tr style=\"text-align: right;\">\n",
       "      <th></th>\n",
       "      <th>SVC</th>\n",
       "      <th>kNN</th>\n",
       "      <th>Random Forest</th>\n",
       "    </tr>\n",
       "  </thead>\n",
       "  <tbody>\n",
       "    <tr>\n",
       "      <th>Credit Risk Dataset</th>\n",
       "      <td>0.5190</td>\n",
       "      <td>0.5240</td>\n",
       "      <td>0.5560</td>\n",
       "    </tr>\n",
       "    <tr>\n",
       "      <th>Credit Fraud Dataset</th>\n",
       "      <td>0.9846</td>\n",
       "      <td>0.9738</td>\n",
       "      <td>0.9788</td>\n",
       "    </tr>\n",
       "  </tbody>\n",
       "</table>\n",
       "</div>"
      ],
      "text/plain": [
       "                         SVC     kNN  Random Forest\n",
       "Credit Risk Dataset   0.5190  0.5240         0.5560\n",
       "Credit Fraud Dataset  0.9846  0.9738         0.9788"
      ]
     },
     "execution_count": 18,
     "metadata": {},
     "output_type": "execute_result"
    }
   ],
   "source": [
    "base_accuracies = [\n",
    "    [risk_svc_accuracy, risk_kNN_accuracy, risk_forest_accuracy],\n",
    "    [fraud_svc_accuracy, fraud_kNN_accuracy, fraud_forest_accuracy]\n",
    "]\n",
    "print('Base accuracies using three classifiers for both datasets:')\n",
    "pd.DataFrame(base_accuracies, columns=['SVC', 'kNN', 'Random Forest'], index=['Credit Risk Dataset', 'Credit Fraud Dataset'])"
   ]
  },
  {
   "cell_type": "code",
   "execution_count": 175,
   "metadata": {},
   "outputs": [
    {
     "data": {
      "text/html": [
       "<div>\n",
       "<style scoped>\n",
       "    .dataframe tbody tr th:only-of-type {\n",
       "        vertical-align: middle;\n",
       "    }\n",
       "\n",
       "    .dataframe tbody tr th {\n",
       "        vertical-align: top;\n",
       "    }\n",
       "\n",
       "    .dataframe thead th {\n",
       "        text-align: right;\n",
       "    }\n",
       "</style>\n",
       "<table border=\"1\" class=\"dataframe\">\n",
       "  <thead>\n",
       "    <tr style=\"text-align: right;\">\n",
       "      <th></th>\n",
       "      <th>SVC</th>\n",
       "      <th>kNN</th>\n",
       "      <th>Random Forest</th>\n",
       "    </tr>\n",
       "  </thead>\n",
       "  <tbody>\n",
       "    <tr>\n",
       "      <th>Loan Dataset</th>\n",
       "      <td>0.804167</td>\n",
       "      <td>0.800000</td>\n",
       "      <td>0.795833</td>\n",
       "    </tr>\n",
       "    <tr>\n",
       "      <th>Malware Dataset</th>\n",
       "      <td>1.000000</td>\n",
       "      <td>1.000000</td>\n",
       "      <td>1.000000</td>\n",
       "    </tr>\n",
       "    <tr>\n",
       "      <th>Wine Dataset</th>\n",
       "      <td>0.618521</td>\n",
       "      <td>0.584118</td>\n",
       "      <td>0.695451</td>\n",
       "    </tr>\n",
       "  </tbody>\n",
       "</table>\n",
       "</div>"
      ],
      "text/plain": [
       "                      SVC       kNN  Random Forest\n",
       "Loan Dataset     0.804167  0.800000       0.795833\n",
       "Malware Dataset  1.000000  1.000000       1.000000\n",
       "Wine Dataset     0.618521  0.584118       0.695451"
      ]
     },
     "execution_count": 175,
     "metadata": {},
     "output_type": "execute_result"
    }
   ],
   "source": [
    "accuracies = [\n",
    "    [loan_svc_accuracy, loan_kNN_accuracy, loan_forest_accuracy],\n",
    "    [mal_svc_accuracy, mal_kNN_accuracy, mal_forest_accuracy],\n",
    "    [wine_svc_accuracy, wine_kNN_accuracy, wine_forest_accuracy]\n",
    "]\n",
    "pd.DataFrame(accuracies, columns=['SVC', 'kNN', 'Random Forest'], index=['Loan Dataset', 'Malware Dataset', 'Wine Dataset'])"
   ]
  },
  {
   "cell_type": "code",
   "execution_count": 23,
   "metadata": {},
   "outputs": [],
   "source": [
    "#import libraries needed for GAN\n",
    "import tensorflow as tf\n",
    "from keras.models import Sequential\n",
    "from keras.layers import BatchNormalization, Dropout, Dense\n",
    "from sklearn.preprocessing import MinMaxScaler\n",
    "#generator and discriminator functions\n",
    "def build_generator(latent_dim, output_dim):\n",
    "    return Sequential([\n",
    "        BatchNormalization(),\n",
    "        Dropout(0.4),\n",
    "        Dense(256, input_dim=latent_dim, activation='relu'),\n",
    "        BatchNormalization(),\n",
    "        Dropout(0.4),\n",
    "        Dense(output_dim, activation='sigmoid')\n",
    "    ])\n",
    "\n",
    "def build_discriminator(input_dim):\n",
    "    return Sequential([\n",
    "        BatchNormalization(),\n",
    "        Dropout(0.4),\n",
    "        Dense(256, input_dim=input_dim, activation='relu'),\n",
    "        BatchNormalization(),\n",
    "        Dropout(0.4),\n",
    "        Dense(1, activation='sigmoid')\n",
    "    ])\n",
    "\n",
    "def build_gan(generator, discriminator):\n",
    "    discriminator.trainable = False\n",
    "    return Sequential([\n",
    "        generator,\n",
    "        discriminator\n",
    "    ])\n",
    "\n",
    "def train_gan(generator, discriminator, gan, data, latent_dim, epochs, batch_size, verbose):\n",
    "    generator.compile(optimizer='adam', loss='binary_crossentropy', metrics=['accuracy'])\n",
    "    discriminator.compile(optimizer='adam', loss='binary_crossentropy', metrics=['accuracy'])\n",
    "    gan.compile(loss='binary_crossentropy', optimizer='adam', metrics=['accuracy'])\n",
    "    gan_acc = []\n",
    "    \n",
    "    for epoch in range(epochs):\n",
    "        #train discriminator on real data\n",
    "        real_data = data[np.random.randint(0, data.shape[0], batch_size)]\n",
    "        real_labels = np.ones((batch_size, 1))\n",
    "\n",
    "        d_loss_real, d_acc_real = discriminator.train_on_batch(real_data, real_labels)\n",
    "\n",
    "        #train discriminator on generated data\n",
    "        noise = np.random.normal(0, 1, (batch_size, latent_dim))\n",
    "        generated_data = generator.predict(noise)\n",
    "        fake_labels = np.zeros((batch_size, 1))\n",
    "\n",
    "        d_loss_fake, d_acc_fake = discriminator.train_on_batch(generated_data, fake_labels)\n",
    "\n",
    "        #train generator\n",
    "        noise = np.random.normal(0, 1, (batch_size, latent_dim))\n",
    "        valid_labels = np.ones((batch_size, 1))\n",
    "\n",
    "        g_loss, g_acc = gan.train_on_batch(noise, valid_labels)\n",
    "        \n",
    "        gan_acc.append(g_acc)\n",
    "        if verbose == 1:\n",
    "            print(f\"Discriminator Real: Epoch {epoch + 1}/{epochs}, Loss: {d_loss_real}, Accuracy: {d_acc_real}\")\n",
    "            print(f\"Discriminator Fake: Epoch {epoch + 1}/{epochs}, Loss: {d_loss_fake}, Accuracy: {d_acc_fake}\")\n",
    "            print(f\"GAN: Epoch {epoch + 1}/{epochs}, Loss: {g_loss}, Accuracy: {g_acc}\")\n",
    "    return gan_acc\n",
    "        \n",
    "def generate_synthetic_data(generator, latent_dim, n_samples):\n",
    "    noise = np.random.normal(0, 1, (n_samples, latent_dim))\n",
    "    generated_data = generator.predict(noise)\n",
    "    return generated_data\n",
    "\n",
    "def run_gan(data, num_features, num_noise_vector, epochs=300, batch_size=10000, n_samples=500, verbose=1):\n",
    "    #scale data\n",
    "    scaler = MinMaxScaler()\n",
    "    scaled_data = scaler.fit_transform(data)\n",
    "    \n",
    "    #build models\n",
    "    generator = build_generator(num_noise_vector, num_features)\n",
    "    discriminator = build_discriminator(num_features)\n",
    "    gan = build_gan(generator, discriminator)\n",
    "    \n",
    "    #train and generate data using GAN\n",
    "    gan_acc = train_gan(generator, discriminator, gan, scaled_data, num_noise_vector, epochs, batch_size, verbose)\n",
    "    generated_data = generate_synthetic_data(generator, num_noise_vector, n_samples)\n",
    "    \n",
    "    #reverse the scaling on data\n",
    "    generated_data = scaler.inverse_transform(generated_data)\n",
    "    \n",
    "    #return the generated data\n",
    "    return (generated_data, gan_acc)"
   ]
  },
  {
   "cell_type": "code",
   "execution_count": 8,
   "metadata": {},
   "outputs": [
    {
     "data": {
      "text/plain": [
       "(178, 13)"
      ]
     },
     "execution_count": 8,
     "metadata": {},
     "output_type": "execute_result"
    }
   ],
   "source": [
    "from sklearn.datasets import load_wine\n",
    "X,y = load_wine(return_X_y=True)\n",
    "X.shape"
   ]
  },
  {
   "cell_type": "markdown",
   "metadata": {},
   "source": []
  },
  {
   "cell_type": "code",
   "execution_count": 14,
   "metadata": {},
   "outputs": [
    {
     "name": "stdout",
     "output_type": "stream",
     "text": [
      "313/313 [==============================] - 0s 426us/step\n",
      "Discriminator Real: Epoch 1/10, Loss: 0.8612170815467834, Accuracy: 0.035999998450279236\n",
      "Discriminator Fake: Epoch 1/10, Loss: 0.5315972566604614, Accuracy: 0.980400025844574\n",
      "GAN: Epoch 1/10, Loss: 0.9185986518859863, Accuracy: 0.033900000154972076\n",
      "313/313 [==============================] - 0s 434us/step\n",
      "Discriminator Real: Epoch 2/10, Loss: 0.8634016513824463, Accuracy: 0.03460000082850456\n",
      "Discriminator Fake: Epoch 2/10, Loss: 0.5307803750038147, Accuracy: 0.9821000099182129\n",
      "GAN: Epoch 2/10, Loss: 0.9122932553291321, Accuracy: 0.03319999948143959\n",
      "313/313 [==============================] - 0s 453us/step\n",
      "Discriminator Real: Epoch 3/10, Loss: 0.8630259037017822, Accuracy: 0.03920000046491623\n",
      "Discriminator Fake: Epoch 3/10, Loss: 0.5296733379364014, Accuracy: 0.9789000153541565\n",
      "GAN: Epoch 3/10, Loss: 0.9114164113998413, Accuracy: 0.02889999933540821\n",
      "313/313 [==============================] - 0s 445us/step\n",
      "Discriminator Real: Epoch 4/10, Loss: 0.8630353808403015, Accuracy: 0.033399999141693115\n",
      "Discriminator Fake: Epoch 4/10, Loss: 0.529988169670105, Accuracy: 0.9800999760627747\n",
      "GAN: Epoch 4/10, Loss: 0.9086074233055115, Accuracy: 0.03099999949336052\n",
      "313/313 [==============================] - 0s 404us/step\n",
      "Discriminator Real: Epoch 5/10, Loss: 0.8612179756164551, Accuracy: 0.03610000014305115\n",
      "Discriminator Fake: Epoch 5/10, Loss: 0.5292491912841797, Accuracy: 0.9815999865531921\n",
      "GAN: Epoch 5/10, Loss: 0.9059954881668091, Accuracy: 0.033900000154972076\n",
      "313/313 [==============================] - 0s 466us/step\n",
      "Discriminator Real: Epoch 6/10, Loss: 0.861948549747467, Accuracy: 0.03620000183582306\n",
      "Discriminator Fake: Epoch 6/10, Loss: 0.5299586653709412, Accuracy: 0.9805999994277954\n",
      "GAN: Epoch 6/10, Loss: 0.9033193588256836, Accuracy: 0.0348999984562397\n",
      "313/313 [==============================] - 0s 424us/step\n",
      "Discriminator Real: Epoch 7/10, Loss: 0.8625099658966064, Accuracy: 0.035999998450279236\n",
      "Discriminator Fake: Epoch 7/10, Loss: 0.5296140909194946, Accuracy: 0.977400004863739\n",
      "GAN: Epoch 7/10, Loss: 0.9020435810089111, Accuracy: 0.034699998795986176\n",
      "313/313 [==============================] - 0s 502us/step\n",
      "Discriminator Real: Epoch 8/10, Loss: 0.8633977770805359, Accuracy: 0.03449999913573265\n",
      "Discriminator Fake: Epoch 8/10, Loss: 0.529410183429718, Accuracy: 0.9804999828338623\n",
      "GAN: Epoch 8/10, Loss: 0.9015562534332275, Accuracy: 0.03319999948143959\n",
      "313/313 [==============================] - 0s 418us/step\n",
      "Discriminator Real: Epoch 9/10, Loss: 0.8624149560928345, Accuracy: 0.03909999877214432\n",
      "Discriminator Fake: Epoch 9/10, Loss: 0.5287342667579651, Accuracy: 0.9799000024795532\n",
      "GAN: Epoch 9/10, Loss: 0.8987220525741577, Accuracy: 0.03680000081658363\n",
      "313/313 [==============================] - 0s 410us/step\n",
      "Discriminator Real: Epoch 10/10, Loss: 0.8624674081802368, Accuracy: 0.03819999843835831\n",
      "Discriminator Fake: Epoch 10/10, Loss: 0.5276026725769043, Accuracy: 0.9790999889373779\n",
      "GAN: Epoch 10/10, Loss: 0.8968978524208069, Accuracy: 0.03689999878406525\n",
      "16/16 [==============================] - 0s 400us/step\n"
     ]
    }
   ],
   "source": [
    "generated_data, accuracy = run_gan(X, X.shape[1], 10, epochs=10)"
   ]
  },
  {
   "cell_type": "code",
   "execution_count": 10,
   "metadata": {},
   "outputs": [
    {
     "data": {
      "text/plain": [
       "array([1.2831593e+01, 3.1782420e+00, 2.2965693e+00, 2.1277582e+01,\n",
       "       1.1764693e+02, 2.1580071e+00, 2.3211904e+00, 4.3872041e-01,\n",
       "       1.7558043e+00, 8.8586979e+00, 1.1215333e+00, 3.0083880e+00,\n",
       "       8.6200006e+02], dtype=float32)"
      ]
     },
     "execution_count": 10,
     "metadata": {},
     "output_type": "execute_result"
    }
   ],
   "source": [
    "generated_data[1]"
   ]
  },
  {
   "cell_type": "code",
   "execution_count": 11,
   "metadata": {},
   "outputs": [
    {
     "data": {
      "text/plain": [
       "array([1.32e+01, 1.78e+00, 2.14e+00, 1.12e+01, 1.00e+02, 2.65e+00,\n",
       "       2.76e+00, 2.60e-01, 1.28e+00, 4.38e+00, 1.05e+00, 3.40e+00,\n",
       "       1.05e+03])"
      ]
     },
     "execution_count": 11,
     "metadata": {},
     "output_type": "execute_result"
    }
   ],
   "source": [
    "X[1]"
   ]
  },
  {
   "cell_type": "code",
   "execution_count": 16,
   "metadata": {},
   "outputs": [
    {
     "data": {
      "text/plain": [
       "[<matplotlib.lines.Line2D at 0x221f1ee38d0>]"
      ]
     },
     "execution_count": 16,
     "metadata": {},
     "output_type": "execute_result"
    },
    {
     "data": {
      "image/png": "[encoded data removed]",
      "text/plain": [
       "<Figure size 640x480 with 1 Axes>"
      ]
     },
     "metadata": {},
     "output_type": "display_data"
    }
   ],
   "source": [
    "plt.plot(range(10), accuracy)"
   ]
  },
  {
   "cell_type": "code",
   "execution_count": null,
   "metadata": {},
   "outputs": [],
   "source": []
  }
 ],
 "metadata": {
  "kernelspec": {
   "display_name": "Python 3",
   "language": "python",
   "name": "python3"
  },
  "language_info": {
   "codemirror_mode": {
    "name": "ipython",
    "version": 3
   },
   "file_extension": ".py",
   "mimetype": "text/x-python",
   "name": "python",
   "nbconvert_exporter": "python",
   "pygments_lexer": "ipython3",
   "version": "3.11.4"
  }
 },
 "nbformat": 4,
 "nbformat_minor": 2
}
